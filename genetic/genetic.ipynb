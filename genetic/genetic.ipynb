{
  "nbformat": 4,
  "nbformat_minor": 0,
  "metadata": {
    "colab": {
      "name": "genetic.ipynb",
      "provenance": [],
      "collapsed_sections": []
    },
    "kernelspec": {
      "name": "python3",
      "display_name": "Python 3"
    },
    "language_info": {
      "name": "python"
    }
  },
  "cells": [
    {
      "cell_type": "code",
      "metadata": {
        "id": "mgAreRWuRFFe"
      },
      "source": [
        "import cv2\n",
        "from google.colab.patches import cv2_imshow\n",
        "import numpy as np"
      ],
      "execution_count": null,
      "outputs": []
    },
    {
      "cell_type": "code",
      "metadata": {
        "id": "NigqC7tPRKHn"
      },
      "source": [
        "def cal_loss(img_crp1,img_crp2,blk_sz):\n",
        "  num_blk_y=int(img_crp1.shape[0]/blk_sz)\n",
        "  num_blk_x=int(img_crp1.shape[1]/blk_sz)\n",
        "  dif=0\n",
        "  for nth_y in range(num_blk_y):\n",
        "    for nth_x in range(num_blk_x):\n",
        "      i1c1=np.mean(img_crp1[nth_y*blk_sz:(nth_y+1)*blk_sz-1,nth_x*blk_sz:(nth_x+1)*blk_sz-1:,0])\n",
        "      i1c2=np.mean(img_crp1[nth_y*blk_sz:(nth_y+1)*blk_sz-1,nth_x*blk_sz:(nth_x+1)*blk_sz-1:,1])\n",
        "      i1c3=np.mean(img_crp1[nth_y*blk_sz:(nth_y+1)*blk_sz-1,nth_x*blk_sz:(nth_x+1)*blk_sz-1:,2])\n",
        "      i2c1=np.mean(img_crp2[nth_y*blk_sz:(nth_y+1)*blk_sz-1,nth_x*blk_sz:(nth_x+1)*blk_sz-1:,0])\n",
        "      i2c2=np.mean(img_crp2[nth_y*blk_sz:(nth_y+1)*blk_sz-1,nth_x*blk_sz:(nth_x+1)*blk_sz-1:,1])\n",
        "      i2c3=np.mean(img_crp2[nth_y*blk_sz:(nth_y+1)*blk_sz-1,nth_x*blk_sz:(nth_x+1)*blk_sz-1:,2])\n",
        "      dif=dif+abs(i1c1-i2c1)+abs(i1c2-i2c2)+abs(i1c3-i2c3)\n",
        "  return dif\n",
        "def loss4img(img1,img2,x,y,blk_sz):\n",
        "  if abs(y)>max(img1.shape[0],img2.shape[0]) or abs(x)>max(img1.shape[1],img2.shape[1]):\n",
        "    return False\n",
        "  Area=(img1.shape[0]-abs(x))*(img1.shape[1]-abs(y))\n",
        "  img_crp1=img1[max(0,y):min(img1.shape[0],img1.shape[0]+y),max(0,x):min(img1.shape[1],img1.shape[1]+x),:]\n",
        "  img_crp2=img2[max(0,-y):min(img2.shape[0]-y,img2.shape[0]),max(0,-x):min(img2.shape[1]-x,img2.shape[1]),:]\n",
        "  result=cal_loss(img_crp1,img_crp2,blk_sz)/Area\n",
        "  return result"
      ],
      "execution_count": null,
      "outputs": []
    },
    {
      "cell_type": "code",
      "metadata": {
        "id": "APEsDGifTzEf"
      },
      "source": [
        "def ntrl_sel(img1,img2,parents_xy,x_min,x_max,y_min,y_max,step,num_children):\n",
        "  candidates=[]\n",
        "  score=[]\n",
        "  children=[]\n",
        "  num_x_blk=int((x_max-x_min)/step)\n",
        "  num_y_blk=int((y_max-y_min)/step)\n",
        "  for point_id in range(len(parents_xy)):\n",
        "    point=parents_xy[point_id]\n",
        "    for x_blk in range(num_x_blk+1):\n",
        "      for y_blk in range(num_y_blk+1):\n",
        "        candidates.append((point[0]+x_min+x_blk*step,point[1]+y_min+y_blk*step))\n",
        "  for num_cand in range(len(candidates)):\n",
        "    cur_score=loss4img(img1,img2,candidates[num_cand][0],candidates[num_cand][1],10)\n",
        "    score.append(cur_score)\n",
        "  score_ar=np.array(score)\n",
        "  index=np.argpartition(score_ar,num_children)\n",
        "  selected_idx=index[:num_children]\n",
        "  for selected_cand in range(len(selected_idx)):\n",
        "    children.append(candidates[selected_idx[selected_cand]])\n",
        "  return children\n"
      ],
      "execution_count": null,
      "outputs": []
    },
    {
      "cell_type": "code",
      "metadata": {
        "id": "WWkJhTPkRKM0"
      },
      "source": [
        "def genetic_img(img1,img2):\n",
        "  root_xy=[(0,0)]\n",
        "  gen1=ntrl_sel(img1,img2,root_xy,-100,300,-100,100,50,3)\n",
        "  print(gen1)\n",
        "  gen2=ntrl_sel(img1,img2,gen1,-20,20,-20,20,10,6)\n",
        "  print(gen2)\n",
        "  gen3=ntrl_sel(img1,img2,gen2,-4,4,-4,4,2,10)\n",
        "  print(gen3)\n",
        "  x_sum=0\n",
        "  y_sum=0\n",
        "  for pt in range(len(gen3)):\n",
        "    x_sum=x_sum+gen3[pt][0]\n",
        "    y_sum=y_sum+gen3[pt][1]\n",
        "  off_x=int(x_sum/len(gen3))\n",
        "  off_y=int(y_sum/len(gen3))\n",
        "  return off_x,off_y"
      ],
      "execution_count": null,
      "outputs": []
    },
    {
      "cell_type": "code",
      "metadata": {
        "colab": {
          "base_uri": "https://localhost:8080/"
        },
        "id": "YhmOHfePdrBF",
        "outputId": "ad249dcb-f881-4415-d142-526cbfb0d350"
      },
      "source": [
        "img1=cv2.imread('/content/drive/MyDrive/Colab Notebooks/Panorama/data/012L.png')\n",
        "img2=cv2.imread('/content/drive/MyDrive/Colab Notebooks/Panorama/data/012R.png')\n",
        "result=genetic_img(img1,img2)\n",
        "print(result)"
      ],
      "execution_count": null,
      "outputs": [
        {
          "output_type": "stream",
          "name": "stdout",
          "text": [
            "[(200, 0), (200, -50), (150, 0)]\n",
            "[(190, -10), (200, -10), (200, -20), (190, -20), (200, 0), (190, 0)]\n",
            "[(196, -10), (196, -12), (198, -10), (196, -8), (194, -12), (194, -14), (196, -14), (194, -10), (198, -12), (194, -8)]\n",
            "(195, -11)\n"
          ]
        }
      ]
    },
    {
      "cell_type": "code",
      "metadata": {
        "colab": {
          "base_uri": "https://localhost:8080/"
        },
        "id": "wFt1-6o0plkG",
        "outputId": "592487b0-979f-4ee7-87a0-5df48108d9c6"
      },
      "source": [
        "img1=cv2.imread('/content/drive/MyDrive/Colab Notebooks/Panorama/data/001L.png')\n",
        "img2=cv2.imread('/content/drive/MyDrive/Colab Notebooks/Panorama/data/001R.png')\n",
        "result=genetic_img(img1,img2)\n",
        "print(result)"
      ],
      "execution_count": null,
      "outputs": [
        {
          "output_type": "stream",
          "name": "stdout",
          "text": [
            "[(0, -100), (150, -100), (150, -50)]\n",
            "[(140, -70), (150, -80), (150, -70), (140, -80), (140, -90), (130, -80)]\n",
            "[(142, -82), (144, -82), (146, -78), (146, -80), (144, -80), (144, -78), (144, -76), (142, -78), (142, -80), (142, -76)]\n",
            "(143, -79)\n"
          ]
        }
      ]
    },
    {
      "cell_type": "code",
      "metadata": {
        "colab": {
          "base_uri": "https://localhost:8080/"
        },
        "id": "P_7LkSCkplrH",
        "outputId": "280c9851-2014-46d4-9e99-c177f8c9e764"
      },
      "source": [
        "img1=cv2.imread('/content/drive/MyDrive/Colab Notebooks/Panorama/data/040L.png')\n",
        "img2=cv2.imread('/content/drive/MyDrive/Colab Notebooks/Panorama/data/040R.png')\n",
        "result=genetic_img(img1,img2)\n",
        "print(result)"
      ],
      "execution_count": null,
      "outputs": [
        {
          "output_type": "stream",
          "name": "stdout",
          "text": [
            "[(200, 0), (200, -50), (150, 0)]\n",
            "[(210, -10), (200, 0), (200, -10), (210, 0), (200, -20), (190, -10)]\n",
            "[(204, -4), (204, -8), (204, -6), (202, -6), (206, -6), (206, -4), (202, -8), (202, -4), (206, -8), (204, -2)]\n",
            "(204, -5)\n"
          ]
        }
      ]
    },
    {
      "cell_type": "code",
      "metadata": {
        "colab": {
          "base_uri": "https://localhost:8080/"
        },
        "id": "N_UneIJspl2z",
        "outputId": "1ba7fad5-c80f-4b01-99d7-d27f11240413"
      },
      "source": [
        "img1=cv2.imread('/content/drive/MyDrive/Colab Notebooks/Panorama/data/053L.png')\n",
        "img2=cv2.imread('/content/drive/MyDrive/Colab Notebooks/Panorama/data/053R.png')\n",
        "result=genetic_img(img1,img2)\n",
        "print(result)"
      ],
      "execution_count": null,
      "outputs": [
        {
          "output_type": "stream",
          "name": "stdout",
          "text": [
            "[(150, 0), (150, 50), (200, 0)]\n",
            "[(150, 0), (150, 10), (160, 10), (150, 20), (140, 10), (160, 0)]\n",
            "[(152, 8), (152, 12), (154, 8), (150, 8), (150, 10), (154, 10), (152, 10), (152, 6), (150, 12), (150, 6)]\n",
            "(151, 9)\n"
          ]
        }
      ]
    },
    {
      "cell_type": "code",
      "metadata": {
        "colab": {
          "base_uri": "https://localhost:8080/"
        },
        "id": "P_0CYohDpuqc",
        "outputId": "fcf7ed9e-b217-49e7-c596-a906698f9ac1"
      },
      "source": [
        "img1=cv2.imread('/content/drive/MyDrive/Colab Notebooks/Panorama/data/135L.png')\n",
        "img2=cv2.imread('/content/drive/MyDrive/Colab Notebooks/Panorama/data/135R.png')\n",
        "result=genetic_img(img1,img2)\n",
        "print(result)"
      ],
      "execution_count": null,
      "outputs": [
        {
          "output_type": "stream",
          "name": "stdout",
          "text": [
            "[(200, 0), (200, -50), (150, 0)]\n",
            "[(190, -20), (180, -20), (200, -20), (200, -30), (190, -30), (210, -20)]\n",
            "[(196, -24), (192, -24), (196, -22), (194, -22), (194, -24), (192, -22), (194, -20), (196, -20), (194, -26), (198, -22)]\n",
            "(194, -22)\n"
          ]
        }
      ]
    },
    {
      "cell_type": "code",
      "metadata": {
        "colab": {
          "base_uri": "https://localhost:8080/"
        },
        "id": "ZtWiTfswpusl",
        "outputId": "88b4b013-0bc4-4547-a615-46fc17382d17"
      },
      "source": [
        "img1=cv2.imread('/content/drive/MyDrive/Colab Notebooks/Panorama/data/169L.png')\n",
        "img2=cv2.imread('/content/drive/MyDrive/Colab Notebooks/Panorama/data/169R.png')\n",
        "result=genetic_img(img1,img2)\n",
        "print(result)"
      ],
      "execution_count": null,
      "outputs": [
        {
          "output_type": "stream",
          "name": "stdout",
          "text": [
            "[(200, 0), (250, 0), (150, 0)]\n",
            "[(230, 10), (220, 10), (230, 20), (240, 10), (230, 0), (220, 20)]\n",
            "[(228, 14), (230, 12), (226, 10), (226, 12), (226, 14), (230, 10), (228, 8), (228, 10), (228, 12), (226, 8)]\n",
            "(227, 11)\n"
          ]
        }
      ]
    },
    {
      "cell_type": "code",
      "metadata": {
        "colab": {
          "base_uri": "https://localhost:8080/"
        },
        "id": "zNiYoE8ip7lW",
        "outputId": "4c788281-427a-4fc9-ace1-4fab25c4b2c8"
      },
      "source": [
        "img1=cv2.imread('/content/drive/MyDrive/Colab Notebooks/Panorama/data/183L.png')\n",
        "img2=cv2.imread('/content/drive/MyDrive/Colab Notebooks/Panorama/data/183R.png')\n",
        "result=genetic_img(img1,img2)\n",
        "print(result)"
      ],
      "execution_count": null,
      "outputs": [
        {
          "output_type": "stream",
          "name": "stdout",
          "text": [
            "[(150, 0), (100, 0), (200, 0)]\n",
            "[(180, -10), (170, -10), (170, 0), (190, -10), (160, -10), (160, 0)]\n",
            "[(178, -10), (174, -10), (176, -10), (176, -8), (174, -8), (178, -8), (172, -8), (180, -10), (180, -8), (172, -10)]\n",
            "(176, -9)\n"
          ]
        }
      ]
    },
    {
      "cell_type": "code",
      "metadata": {
        "colab": {
          "base_uri": "https://localhost:8080/"
        },
        "id": "NRTuYtnjp8di",
        "outputId": "196500e0-fb0d-4377-9b1c-8d66731e361b"
      },
      "source": [
        "img1=cv2.imread('/content/drive/MyDrive/Colab Notebooks/Panorama/data/202L.png')\n",
        "img2=cv2.imread('/content/drive/MyDrive/Colab Notebooks/Panorama/data/202R.png')\n",
        "result=genetic_img(img1,img2)\n",
        "print(result)"
      ],
      "execution_count": null,
      "outputs": [
        {
          "output_type": "stream",
          "name": "stdout",
          "text": [
            "[(200, 0), (150, 0), (100, 0)]\n",
            "[(220, 0), (210, 0), (200, 0), (190, 0), (200, 10), (200, -10)]\n",
            "[(202, 0), (200, -2), (202, -4), (204, 0), (204, -2), (202, -2), (200, 0), (202, 2), (206, -2), (200, 2)]\n",
            "(202, 0)\n"
          ]
        }
      ]
    }
  ]
}